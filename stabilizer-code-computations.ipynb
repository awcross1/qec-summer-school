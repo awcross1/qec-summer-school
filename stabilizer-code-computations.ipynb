{
 "cells": [
  {
   "cell_type": "markdown",
   "metadata": {},
   "source": [
    "## Computations with (subsystem) stabilizer codes\n",
    "\n",
    "Overview:\n",
    "* Representing Pauli operators\n",
    "* Symplectic Gram-Schmidt procedure\n",
    "* Minimum distance computation"
   ]
  },
  {
   "cell_type": "markdown",
   "metadata": {},
   "source": [
    "### Representing Pauli operators"
   ]
  },
  {
   "cell_type": "code",
   "execution_count": 4,
   "metadata": {},
   "outputs": [
    {
     "name": "stdout",
     "output_type": "stream",
     "text": [
      "[[1 0 1 1 0 0 1 0 0 0 0 0 1 0 0 0 0 0 0 0 0 0 0 0 0 1]]\n"
     ]
    }
   ],
   "source": [
    "import qiskit_qec.utils.pauli_rep as pauli_rep\n",
    "\n",
    "# String representation\n",
    "pauli_string = \"iXIXXIIXIIIIIY\"\n",
    "\n",
    "# Convert to a symplectic matrix\n",
    "matrix, phase_exp = pauli_rep.str2symplectic(pauli_string, qubit_order=\"left-to-right\")\n",
    "print(matrix.astype(int))"
   ]
  },
  {
   "cell_type": "code",
   "execution_count": 2,
   "metadata": {},
   "outputs": [
    {
     "name": "stdout",
     "output_type": "stream",
     "text": [
      "iX_1X_3X_4X_7Y_13\n"
     ]
    }
   ],
   "source": [
    "# Index format, printed left-to-right, index starts at 1 (not 0), with underscores\n",
    "new_pauli_string = pauli_rep.symplectic2str(matrix, phase_exp,\n",
    "                                            qubit_order=\"left-to-right\",\n",
    "                                            index_start=1, index_str=\"_\")\n",
    "print(new_pauli_string)"
   ]
  },
  {
   "cell_type": "code",
   "execution_count": 5,
   "metadata": {},
   "outputs": [
    {
     "name": "stdout",
     "output_type": "stream",
     "text": [
      "-iZ0X1Y2Z3X10 iX1X3X5X7X9 Z1Z2X10\n"
     ]
    }
   ],
   "source": [
    "from qiskit_qec.operators.base_pauli import BasePauli\n",
    "from qiskit_qec.operators.pauli import Pauli\n",
    "\n",
    "# Configure the Pauli object\n",
    "BasePauli.set_syntax(pauli_rep.INDEX_SYNTAX)\n",
    "BasePauli.set_qubit_order(\"left-to-right\")\n",
    "\n",
    "# Create some Pauli operators\n",
    "str1=\"-iZ0X1X10Z3Y2\"\n",
    "str2=\"iXIXIXIXIXI\"\n",
    "str3=\"Z1Z2X10\"\n",
    "P1 = Pauli(str1)\n",
    "P2 = Pauli(str2)\n",
    "P3 = Pauli(str3)\n",
    "print(P1, P2, P3)"
   ]
  },
  {
   "cell_type": "code",
   "execution_count": 8,
   "metadata": {},
   "outputs": [
    {
     "name": "stdout",
     "output_type": "stream",
     "text": [
      "11\n",
      "[-0.-1.j]\n",
      "[False  True  True False False False False False False False  True]\n",
      "[1 0 1 1 0 0 0 0 0 0 0]\n"
     ]
    }
   ],
   "source": [
    "print(P1.num_qubits)\n",
    "print(P1.phase)\n",
    "print(P1.x)\n",
    "print(P1.z.astype(int))"
   ]
  },
  {
   "cell_type": "code",
   "execution_count": 9,
   "metadata": {},
   "outputs": [
    {
     "name": "stdout",
     "output_type": "stream",
     "text": [
      "['-iZ0X1Y2Z3X10', 'iX1X3X5X7X9']\n"
     ]
    }
   ],
   "source": [
    "from qiskit_qec.operators.pauli_list import PauliList\n",
    "\n",
    "# Create a list of Pauli operators\n",
    "PL = PauliList([P1, P2])\n",
    "print(PL)"
   ]
  },
  {
   "cell_type": "code",
   "execution_count": 7,
   "metadata": {},
   "outputs": [
    {
     "name": "stdout",
     "output_type": "stream",
     "text": [
      "[[ True]\n",
      " [False]]\n"
     ]
    }
   ],
   "source": [
    "# Test commutation of each element with P1\n",
    "print(PL.all_commutes(P1))"
   ]
  },
  {
   "cell_type": "code",
   "execution_count": 8,
   "metadata": {},
   "outputs": [
    {
     "name": "stdout",
     "output_type": "stream",
     "text": [
      "['-iZ0Y1X2Z3', '-Y1Z2X3X5X7X9X10']\n"
     ]
    }
   ],
   "source": [
    "# Left multiply every element by P3 = Z1Z2X10\n",
    "print(PL.compose(P3))"
   ]
  },
  {
   "cell_type": "code",
   "execution_count": 11,
   "metadata": {},
   "outputs": [
    {
     "name": "stdout",
     "output_type": "stream",
     "text": [
      "['-iZ0X1Y2Z3X10', 'iX1X3X5X7X9']\n",
      "['iX0Z1Y2X3Z10', 'iZ1Z3Z5Z7Z9']\n"
     ]
    }
   ],
   "source": [
    "from qiskit import QuantumCircuit\n",
    "\n",
    "# Conjugate by a Clifford circuit (bit-wise Hadamard)\n",
    "qc = QuantumCircuit(P1.num_qubits)\n",
    "for i in range(P1.num_qubits):\n",
    "    qc.h(i)\n",
    "\n",
    "print(PL)\n",
    "print(PL.evolve(qc))"
   ]
  },
  {
   "cell_type": "code",
   "execution_count": 13,
   "metadata": {},
   "outputs": [
    {
     "name": "stdout",
     "output_type": "stream",
     "text": [
      "['', 'Z1', '-iY0Y1']\n",
      "['iX1']\n",
      "['iX1', 'iZ0Z1']\n",
      "['Z0Y1', '-iX0', 'iY0Y1']\n"
     ]
    }
   ],
   "source": [
    "# 1. init from list[str]\n",
    "pauli_list = PauliList([\"II\", \"ZI\", \"-iYY\"])\n",
    "print(pauli_list)\n",
    "\n",
    "# 2. init from Pauli\n",
    "pauli1 = Pauli(\"iXI\")\n",
    "print(PauliList(pauli1))\n",
    "\n",
    "# 3. init from list[Pauli]\n",
    "pauli2 = Pauli(\"iZZ\")\n",
    "print(PauliList([pauli1, pauli2]))\n",
    "\n",
    "# 4. init from np.ndarray\n",
    "import numpy as np\n",
    "z = np.array([[True, True], [False, False], [True, True]])\n",
    "x = np.array([[False, True], [True, False], [True, True]])\n",
    "phase = np.array([0, 1, 3])\n",
    "pauli_list = PauliList.from_symplectic(z, x, phase)\n",
    "print(pauli_list)"
   ]
  },
  {
   "cell_type": "markdown",
   "metadata": {},
   "source": [
    "### Symplectic Gram-Schmidt procedure"
   ]
  },
  {
   "cell_type": "code",
   "execution_count": 14,
   "metadata": {},
   "outputs": [
    {
     "name": "stdout",
     "output_type": "stream",
     "text": [
      "[[1 1 1 1 0 0 0 0]\n",
      " [0 0 0 0 1 1 1 1]]\n"
     ]
    }
   ],
   "source": [
    "import qiskit_qec.linear.symplectic as symplectic\n",
    "\n",
    "pauli_strings = ['XXXX', 'ZZZZ']\n",
    "matrix, _ = pauli_rep.str2symplectic(pauli_strings, qubit_order=\"left-to-right\")\n",
    "print(matrix.astype(int))"
   ]
  },
  {
   "cell_type": "code",
   "execution_count": 21,
   "metadata": {},
   "outputs": [
    {
     "name": "stdout",
     "output_type": "stream",
     "text": [
      "[[1 1 1 1 0 0 0 0]\n",
      " [0 0 0 0 1 1 1 1]\n",
      " [1 0 0 0 0 0 0 0]\n",
      " [0 1 0 0 0 0 0 0]\n",
      " [0 0 1 0 0 0 0 0]\n",
      " [0 0 0 0 1 0 0 0]\n",
      " [0 0 0 0 0 1 0 0]\n",
      " [0 0 0 0 0 0 1 0]]\n"
     ]
    }
   ],
   "source": [
    "full = symplectic.basis_for_pauli_group(matrix)\n",
    "print(full.astype(int))"
   ]
  },
  {
   "cell_type": "code",
   "execution_count": 26,
   "metadata": {},
   "outputs": [
    {
     "name": "stdout",
     "output_type": "stream",
     "text": [
      "\n",
      "['X0X1X2X3' 'Z0Z1Z2Z3' 'X2X3' 'X1X3']\n",
      "['Z0' 'X1X2X3' 'Z1Z3' 'Z2Z3']\n"
     ]
    }
   ],
   "source": [
    "center, x, z = symplectic.symplectic_gram_schmidt(full)\n",
    "print(pauli_rep.symplectic2str(center, qubit_order=\"left-to-right\"))\n",
    "print(pauli_rep.symplectic2str(x, qubit_order=\"left-to-right\"))\n",
    "print(pauli_rep.symplectic2str(z, qubit_order=\"left-to-right\"))"
   ]
  },
  {
   "cell_type": "code",
   "execution_count": 27,
   "metadata": {},
   "outputs": [
    {
     "name": "stdout",
     "output_type": "stream",
     "text": [
      "False\n"
     ]
    }
   ],
   "source": [
    "# 3x3 Bacon-Shor code\n",
    "pauli_strings = [\"XIIXIIIII\", \"IXIIXIIII\", \"IIXIIXIII\",\n",
    "                 \"IIIXIIXII\", \"IIIIXIIXI\", \"IIIIIXIIX\",\n",
    "                 \"ZZIIIIIII\", \"IZZIIIIII\", \"IIIZZIIII\",\n",
    "                 \"IIIIZZIII\", \"IIIIIIZZI\", \"IIIIIIIZZ\"]\n",
    "plist = PauliList(pauli_strings)\n",
    "print(symplectic.is_stabilizer_group(plist.matrix))"
   ]
  },
  {
   "cell_type": "code",
   "execution_count": 28,
   "metadata": {},
   "outputs": [
    {
     "name": "stdout",
     "output_type": "stream",
     "text": [
      "['X3X4X5X6X7X8' 'X0X1X2X3X4X5' 'Z1Z2Z4Z5Z7Z8' 'Z0Z1Z3Z4Z6Z7']\n"
     ]
    }
   ],
   "source": [
    "center = symplectic.center(plist.matrix)\n",
    "print(pauli_rep.symplectic2str(center, qubit_order=\"left-to-right\"))"
   ]
  },
  {
   "cell_type": "code",
   "execution_count": 31,
   "metadata": {},
   "outputs": [
    {
     "name": "stdout",
     "output_type": "stream",
     "text": [
      "S =  ['X3X4X5X6X7X8' 'X0X1X2X3X4X5' 'Z1Z2Z4Z5Z7Z8' 'Z0Z1Z3Z4Z6Z7']\n",
      "X gauge =  ['X5X8' 'X4X5X7X8' 'X2X5' 'X1X2X4X5']\n",
      "Z gauge =  ['Z7Z8' 'Z6Z7' 'Z4Z5Z7Z8' 'Z3Z4Z6Z7']\n"
     ]
    }
   ],
   "source": [
    "center, xp, zp = symplectic.symplectic_gram_schmidt(plist.matrix)\n",
    "print(\"S = \", pauli_rep.symplectic2str(center, qubit_order=\"left-to-right\"))\n",
    "print(\"X gauge = \", pauli_rep.symplectic2str(xp, qubit_order=\"left-to-right\"))\n",
    "print(\"Z gauge = \", pauli_rep.symplectic2str(zp, qubit_order=\"left-to-right\"))"
   ]
  },
  {
   "cell_type": "code",
   "execution_count": 32,
   "metadata": {},
   "outputs": [
    {
     "name": "stdout",
     "output_type": "stream",
     "text": [
      "X all =  ['X6X7X8' 'X1X2X4X5' 'X2X5' 'X4X5X7X8' 'X5X8']\n",
      "Z all =  ['Z2Z5Z8' 'Z3Z4Z6Z7' 'Z4Z5Z7Z8' 'Z6Z7' 'Z7Z8']\n"
     ]
    }
   ],
   "source": [
    "centerp, xpp, zpp = symplectic.normalizer(center, xp, zp)\n",
    "print(\"X all = \", pauli_rep.symplectic2str(xpp, qubit_order=\"left-to-right\"))\n",
    "print(\"Z all = \", pauli_rep.symplectic2str(zpp, qubit_order=\"left-to-right\"))"
   ]
  },
  {
   "cell_type": "markdown",
   "metadata": {},
   "source": [
    "### Minimum distance computation"
   ]
  },
  {
   "cell_type": "code",
   "execution_count": 34,
   "metadata": {},
   "outputs": [],
   "source": [
    "from qiskit_qec.analysis.properties import minimum_distance"
   ]
  },
  {
   "cell_type": "code",
   "execution_count": 35,
   "metadata": {},
   "outputs": [
    {
     "data": {
      "text/plain": [
       "3"
      ]
     },
     "execution_count": 35,
     "metadata": {},
     "output_type": "execute_result"
    }
   ],
   "source": [
    "# 3x3 Bacon-Shor code\n",
    "pauli_strings = [\"XIIXIIIII\", \"IXIIXIIII\", \"IIXIIXIII\",\n",
    "                 \"IIIXIIXII\", \"IIIIXIIXI\", \"IIIIIXIIX\",\n",
    "                 \"ZZIIIIIII\", \"IZZIIIIII\", \"IIIZZIIII\",\n",
    "                 \"IIIIZZIII\", \"IIIIIIZZI\", \"IIIIIIIZZ\"]\n",
    "plist = PauliList(pauli_strings)\n",
    "minimum_distance(plist.matrix)"
   ]
  },
  {
   "cell_type": "code",
   "execution_count": 36,
   "metadata": {},
   "outputs": [],
   "source": [
    "# [[17,1,7]] code from codetables.de\n",
    "paulis = [\n",
    "    \"yzizzzizizizzzizy\",\n",
    "    \"ixzziizzzzzziizzx\",\n",
    "    \"zzxiiziiziziiziix\",\n",
    "    \"zizyzzzziiiizzzzy\",\n",
    "    \"iiiixizizzizzizix\",\n",
    "    \"zzizzyiiiizziiiiy\",\n",
    "    \"iizziiyziziiizizy\",\n",
    "    \"iziiizixzzzzzzzzx\",\n",
    "    \"zzzzzzzzxiziiizix\",\n",
    "    \"ziziiizizyiizziiy\",\n",
    "    \"iiiizziiiiyzzizzy\",\n",
    "    \"izizzizzizixiiiix\",\n",
    "    \"zzzziiiizzzzyzizy\",\n",
    "    \"iiziiziziiziixzzx\",\n",
    "    \"zziizzzzzziizzxix\",\n",
    "    \"zizzzizizizzzizyy\",\n",
    "]\n",
    "gauge = PauliList(list(map(lambda x: x.upper(), paulis)))"
   ]
  },
  {
   "cell_type": "code",
   "execution_count": 38,
   "metadata": {},
   "outputs": [],
   "source": [
    "import time"
   ]
  },
  {
   "cell_type": "code",
   "execution_count": 24,
   "metadata": {},
   "outputs": [
    {
     "name": "stdout",
     "output_type": "stream",
     "text": [
      "7\n",
      "96.730 seconds\n"
     ]
    }
   ],
   "source": [
    "tic = time.perf_counter()\n",
    "d = minimum_distance(gauge.matrix, max_weight=10, method=\"enumerate\")\n",
    "toc = time.perf_counter()\n",
    "print(d)\n",
    "print(f\"{toc - tic:0.3f} seconds\")"
   ]
  },
  {
   "cell_type": "code",
   "execution_count": 39,
   "metadata": {},
   "outputs": [
    {
     "name": "stdout",
     "output_type": "stream",
     "text": [
      "7\n",
      "0.215 seconds\n"
     ]
    }
   ],
   "source": [
    "tic = time.perf_counter()\n",
    "d = minimum_distance(gauge.matrix, max_weight=10, method=\"partition\")\n",
    "toc = time.perf_counter()\n",
    "print(d)\n",
    "print(f\"{toc - tic:0.3f} seconds\")"
   ]
  }
 ],
 "metadata": {
  "interpreter": {
   "hash": "373fb50dda4eb13a8715bfd85bcbe5ebe3fba0033bdc3c938635a76028333a27"
  },
  "kernelspec": {
   "display_name": "Python 3.9.7 ('test_3Dec2021')",
   "language": "python",
   "name": "python3"
  },
  "language_info": {
   "codemirror_mode": {
    "name": "ipython",
    "version": 3
   },
   "file_extension": ".py",
   "mimetype": "text/x-python",
   "name": "python",
   "nbconvert_exporter": "python",
   "pygments_lexer": "ipython3",
   "version": "3.9.7"
  },
  "orig_nbformat": 4
 },
 "nbformat": 4,
 "nbformat_minor": 2
}
